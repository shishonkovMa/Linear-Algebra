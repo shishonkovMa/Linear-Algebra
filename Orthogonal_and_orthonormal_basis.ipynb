{
 "cells": [
  {
   "cell_type": "markdown",
   "metadata": {},
   "source": [
    "**Finding orthogonal and orthonormal basis using the Gram-Schmidt orthogonalization process.**\n",
    "\n",
    "Let's note that function gs_process  takes in a matrix as an argument where rows are our initial vectors, and returns a matrix where rows are orthogonal vectors that form the new basis. \n",
    "\n",
    "The function normalize takes the array from gs_process and returns a new array where rows are orthonormal vectors."
   ]
  },
  {
   "cell_type": "code",
   "execution_count": 3,
   "metadata": {},
   "outputs": [
    {
     "name": "stdout",
     "output_type": "stream",
     "text": [
      "Orthogonal basis: [[ 6.          5.          1.          0.        ]\n",
      " [-1.77419355  2.35483871 -1.12903226  1.        ]\n",
      " [-0.30882353  0.27352941  0.48529412 -0.64411765]] \n",
      "\n",
      "Orthonormal basis: [[ 0.76200076  0.63500064  0.12700013  0.        ]\n",
      " [-0.53572558  0.71105395 -0.34091628  0.30195442]\n",
      " [-0.34091628  0.30195442  0.53572558 -0.71105395]]\n"
     ]
    }
   ],
   "source": [
    "import numpy as np\n",
    "from numpy import linalg as LA\n",
    "\n",
    "\n",
    "def gs_cofficient(a, b):\n",
    "    denominator = np.dot(b, b)\n",
    "    if denominator == 0:\n",
    "        return 0\n",
    "    return np.dot(a, b) / np.dot(b, b) # getting the coefficient for each b_i\n",
    "\n",
    "\n",
    "def gs_process(A):\n",
    "    B = []\n",
    "    for i in np.arange(A.shape[0]):\n",
    "        a_i = A[i]\n",
    "        for b in B :\n",
    "            proj_vec = gs_cofficient(a_i, b) * b\n",
    "            a_i = a_i - proj_vec\n",
    "        B.append(a_i)\n",
    "    return np.array(B)\n",
    "\n",
    "\n",
    "#example use\n",
    "a1 = np.array([6, 5, 1, 0])\n",
    "a2 = np.array([5, 8, 0, 1])\n",
    "a3 = np.array([1, 0, 1, -1])\n",
    "A = np.array([a1, a2, a3]) \n",
    "basis = gs_process(A)\n",
    "print(\"Orthogonal basis:\", basis, '\\n')\n",
    "\n",
    "\n",
    "# to normalize the basis:\n",
    "def normalize(X):\n",
    "    return np.array([x / LA.norm(x) \n",
    "                     if LA.norm(x) != 0\n",
    "                     else np.zeros(len(x)) \n",
    "                     for x in X])\n",
    "                     \n",
    "normalized = normalize(basis)\n",
    "print(\"Orthonormal basis:\", normalized)"
   ]
  }
 ],
 "metadata": {
  "kernelspec": {
   "display_name": "Python 3",
   "language": "python",
   "name": "python3"
  },
  "language_info": {
   "codemirror_mode": {
    "name": "ipython",
    "version": 3
   },
   "file_extension": ".py",
   "mimetype": "text/x-python",
   "name": "python",
   "nbconvert_exporter": "python",
   "pygments_lexer": "ipython3",
   "version": "3.8.10"
  }
 },
 "nbformat": 4,
 "nbformat_minor": 4
}
