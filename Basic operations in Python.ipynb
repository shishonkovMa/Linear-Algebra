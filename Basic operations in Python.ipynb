{
 "cells": [
  {
   "cell_type": "markdown",
   "metadata": {},
   "source": [
    "# Programming assignment\n",
    "We covered some basic numpy methods to perform basic calculations in Python. In this notebook I'm dealing with matrix and vector operations."
   ]
  },
  {
   "cell_type": "code",
   "execution_count": 1,
   "metadata": {},
   "outputs": [],
   "source": [
    "import numpy as np\n",
    "import numpy.linalg as LA"
   ]
  },
  {
   "cell_type": "markdown",
   "metadata": {},
   "source": [
    "## Task 1\n",
    "Find the sum of all elements in an array."
   ]
  },
  {
   "cell_type": "code",
   "execution_count": 2,
   "metadata": {},
   "outputs": [
    {
     "data": {
      "text/plain": [
       "array([[ 1, 13,  4,  5, -6],\n",
       "       [-9,  4, 12,  0,  2],\n",
       "       [45,  4,  3,  2,  1],\n",
       "       [ 3, -9, 15,  6, 22],\n",
       "       [ 3,  5,  0, -7, 12]])"
      ]
     },
     "execution_count": 2,
     "metadata": {},
     "output_type": "execute_result"
    }
   ],
   "source": [
    "A = np.array([[1,13,4,5, -6],[-9,4,12,0,2],[45,4,3,2,1], [3,-9,15,6,22],[3,5,0,-7,12]])\n",
    "A"
   ]
  },
  {
   "cell_type": "code",
   "execution_count": 3,
   "metadata": {},
   "outputs": [],
   "source": [
    "ans1 = np.sum(A)"
   ]
  },
  {
   "cell_type": "markdown",
   "metadata": {},
   "source": [
    "## Task 2\n",
    "Calculate the difference between matrices m1 and m2."
   ]
  },
  {
   "cell_type": "code",
   "execution_count": 4,
   "metadata": {},
   "outputs": [],
   "source": [
    "m1 = np.array([[-7, -6,  3, -5],\n",
    "       [ 7,  0,  4,  0],\n",
    "       [ 6, -1,  1,  1]])\n",
    "m2 = np.array([[  6,  -7,  -3,  -9],\n",
    "       [ -8,   1,  -4,   2],\n",
    "       [-10,   1,  -7,   9]])"
   ]
  },
  {
   "cell_type": "code",
   "execution_count": 5,
   "metadata": {},
   "outputs": [],
   "source": [
    "ans2 = m1 - m2"
   ]
  },
  {
   "cell_type": "markdown",
   "metadata": {},
   "source": [
    "## Task 3\n",
    "Find the sum of all matrix elements whose absolute value is greater than 5."
   ]
  },
  {
   "cell_type": "code",
   "execution_count": 6,
   "metadata": {},
   "outputs": [],
   "source": [
    "b = np.array([[ -6,  -7,  -5,   0],\n",
    "       [-15,   2, -13,  -5],\n",
    "       [  8,   4,  10,   8],\n",
    "       [ -1,  -9,   7,  -4]])"
   ]
  },
  {
   "cell_type": "code",
   "execution_count": 7,
   "metadata": {},
   "outputs": [
    {
     "data": {
      "text/plain": [
       "-17"
      ]
     },
     "execution_count": 7,
     "metadata": {},
     "output_type": "execute_result"
    }
   ],
   "source": [
    "ans3 = np.sum(np.where(np.abs(b) > 5, b, 0))\n",
    "ans3"
   ]
  },
  {
   "cell_type": "markdown",
   "metadata": {},
   "source": [
    "## Task 4\n",
    "Find the product of two matrices. Remember that it is better to use $\\textit{matmul, or @,}$ for $\\textbf{larger dimension}$ matrices."
   ]
  },
  {
   "cell_type": "code",
   "execution_count": 8,
   "metadata": {},
   "outputs": [],
   "source": [
    "n = np.array([[ -4,  -1,   3,  -7,   6,  -9,   5,  -9,  -7,   0],\n",
    "       [-12,   3, -12,  -7,   2,  -4,   8,  13,   9,   3],\n",
    "       [ -2,  -1, -15, -10,   7,   5,   7, -13,  -9,   6],\n",
    "       [  7,  11,  -5,  -6,  -9,  -1,   3,  10, -15,  -6],\n",
    "       [ -3,  -4,   4, -13,   4, -13,  10,  -6,  -8,  13],\n",
    "       [  7, -13,  -4,   3,   4,  13, -13,   4,  -9, -10],\n",
    "       [ -5,  13,  -9, -15,  11,   2,   7, -14, -14,   2],\n",
    "       [ -4,  -6,  12,  10,  13,  -3,  12, -15,   5,  -2],\n",
    "       [ -1,   8,   3,   7,  11,  -3,   6,  12,  12, -13],\n",
    "       [ 12,  11,  12,  11,   1, -14,   2,   6,  -9,  -3]])\n",
    "z = np.array([[-15,   5, -15,  10,  -3,  12,  -6, -15,   6,   3],\n",
    "       [ 12,  -4,   6, -11,   5,   3,   3,  12, -15,  -6],\n",
    "       [-11, -11, -10,   9,  -8, -14, -14,   7,  -2,  11],\n",
    "       [  5,  -4,  11,   0,   8,  -9, -15, -11,   7, -10],\n",
    "       [ -6,  -9,  -3, -13, -11,  -9,   7,  -7,   9,   4],\n",
    "       [ 10,  12,   4,  -7,   1,   0,  -1,  11,  -4,  11],\n",
    "       [-14,   2,  -8,  11,  -9,   5, -14,  10,  -6,  -9],\n",
    "       [ -5,  10, -10,  -1,  -9, -12,  12,  14,   4,   2],\n",
    "       [ -1, -13,  10,  11,  12, -14,   9,  12,  12,  -5],\n",
    "       [  2,   6, -13,  -5,  -2,  -2,   0,  14,   7,  14]])"
   ]
  },
  {
   "cell_type": "code",
   "execution_count": 9,
   "metadata": {},
   "outputs": [],
   "source": [
    "ans4 = np.matmul(n, z)"
   ]
  },
  {
   "cell_type": "markdown",
   "metadata": {},
   "source": [
    "## Task 5\n",
    "Create an identity matrix of the necessary size and subtract it from A."
   ]
  },
  {
   "cell_type": "code",
   "execution_count": 10,
   "metadata": {},
   "outputs": [
    {
     "data": {
      "text/plain": [
       "array([[  7,   8, -15,   8,  11,   7],\n",
       "       [ -5,  -9,  13,  -3, -15, -11],\n",
       "       [ -3,   0,  10,  -5,   3,  -8],\n",
       "       [ 10,   1,   7, -11,  10,  -3],\n",
       "       [ 11,   9,  -6, -14,  10, -11],\n",
       "       [  6,  -4,  -4,  -9,  -6,  -7]])"
      ]
     },
     "execution_count": 10,
     "metadata": {},
     "output_type": "execute_result"
    }
   ],
   "source": [
    "A = np.array([[  7,   8, -15,   8,  11,   7],\n",
    "       [ -5,  -9,  13,  -3, -15, -11],\n",
    "       [ -3,   0,  10,  -5,   3,  -8],\n",
    "       [ 10,   1,   7, -11,  10,  -3],\n",
    "       [ 11,   9,  -6, -14,  10, -11],\n",
    "       [  6,  -4,  -4,  -9,  -6,  -7]])\n",
    "A"
   ]
  },
  {
   "cell_type": "code",
   "execution_count": 11,
   "metadata": {},
   "outputs": [],
   "source": [
    "ans5 = A - np.identity(6)"
   ]
  },
  {
   "cell_type": "markdown",
   "metadata": {},
   "source": [
    "## Task 6\n",
    "Find the solution to system Ax = b, use matrix inverse."
   ]
  },
  {
   "cell_type": "code",
   "execution_count": 12,
   "metadata": {},
   "outputs": [],
   "source": [
    "A = np.array([[ 0, -2,  0, -2],\n",
    "       [-2,  0, -4,  4],\n",
    "       [-1, -5, -2,  2],\n",
    "       [ 3, 1, 2,  1]])"
   ]
  },
  {
   "cell_type": "code",
   "execution_count": 13,
   "metadata": {},
   "outputs": [],
   "source": [
    "b = np.array([-4,  1,  4,  2])"
   ]
  },
  {
   "cell_type": "code",
   "execution_count": 14,
   "metadata": {},
   "outputs": [],
   "source": [
    "x = np.dot(np.linalg.inv(A), b)"
   ]
  },
  {
   "cell_type": "markdown",
   "metadata": {},
   "source": [
    "## Task 7\n",
    "Find the PLU decomposition and assert that by multiplying the matrices in the decomposition we get the original matrix back."
   ]
  },
  {
   "cell_type": "code",
   "execution_count": 15,
   "metadata": {},
   "outputs": [],
   "source": [
    "from scipy.linalg import lu"
   ]
  },
  {
   "cell_type": "code",
   "execution_count": 16,
   "metadata": {},
   "outputs": [
    {
     "data": {
      "text/plain": [
       "array([[ 12, -13,   2,   2, -11],\n",
       "       [  1,   4,  11,  11,  -5],\n",
       "       [ 13,  -5,   9,  12,  -2],\n",
       "       [  5, -13,  12,   3,   5],\n",
       "       [ -9,  11,  -1,  -6,  -5]])"
      ]
     },
     "execution_count": 16,
     "metadata": {},
     "output_type": "execute_result"
    }
   ],
   "source": [
    "m = np.array([[ 12, -13,   2,   2, -11],\n",
    "       [  1,   4,  11,  11,  -5],\n",
    "       [ 13,  -5,   9,  12,  -2],\n",
    "       [  5, -13,  12,   3,   5],\n",
    "       [ -9,  11,  -1,  -6,  -5]])\n",
    "m"
   ]
  },
  {
   "cell_type": "code",
   "execution_count": 17,
   "metadata": {},
   "outputs": [],
   "source": [
    "P, L, U = lu(m)"
   ]
  },
  {
   "cell_type": "code",
   "execution_count": 18,
   "metadata": {},
   "outputs": [],
   "source": [
    "assert(np.allclose(((P@L)@U), m))"
   ]
  }
 ],
 "metadata": {
  "kernelspec": {
   "display_name": "Python 3",
   "language": "python",
   "name": "python3"
  },
  "language_info": {
   "codemirror_mode": {
    "name": "ipython",
    "version": 3
   },
   "file_extension": ".py",
   "mimetype": "text/x-python",
   "name": "python",
   "nbconvert_exporter": "python",
   "pygments_lexer": "ipython3",
   "version": "3.8.10"
  }
 },
 "nbformat": 4,
 "nbformat_minor": 2
}
